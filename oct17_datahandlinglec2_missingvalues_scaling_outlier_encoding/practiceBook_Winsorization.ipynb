{
 "cells": [
  {
   "cell_type": "code",
   "execution_count": 2,
   "metadata": {
    "id": "T-OXyiOJVqSA"
   },
   "outputs": [],
   "source": [
    "import pandas as pd\n",
    "df = pd.read_csv(r\"D:\\CscamRepo\\RepoScam\\supervisedLearning\\oct17_datahandlinglec2_missingvalues_scaling_outlier_encoding\\HousePrices.csv\")"
   ]
  },
  {
   "cell_type": "code",
   "execution_count": 3,
   "metadata": {},
   "outputs": [
    {
     "name": "stdout",
     "output_type": "stream",
     "text": [
      "DataFrame with winsorized column:\n",
      "                     date         price  bedrooms  bathrooms  sqft_living  \\\n",
      "0     2014-05-02 00:00:00  3.130000e+05       3.0       1.50         1340   \n",
      "1     2014-05-02 00:00:00  2.384000e+06       5.0       2.50         3650   \n",
      "2     2014-05-02 00:00:00  3.420000e+05       3.0       2.00         1930   \n",
      "3     2014-05-02 00:00:00  4.200000e+05       3.0       2.25         2000   \n",
      "4     2014-05-02 00:00:00  5.500000e+05       4.0       2.50         1940   \n",
      "...                   ...           ...       ...        ...          ...   \n",
      "4595  2014-07-09 00:00:00  3.081667e+05       3.0       1.75         1510   \n",
      "4596  2014-07-09 00:00:00  5.343333e+05       3.0       2.50         1460   \n",
      "4597  2014-07-09 00:00:00  4.169042e+05       3.0       2.50         3010   \n",
      "4598  2014-07-10 00:00:00  2.034000e+05       4.0       2.00         2090   \n",
      "4599  2014-07-10 00:00:00  2.206000e+05       3.0       2.50         1490   \n",
      "\n",
      "      sqft_lot  floors  waterfront  view  condition  sqft_above  \\\n",
      "0         7912     1.5           0     0          3        1340   \n",
      "1         9050     2.0           0     4          5        3370   \n",
      "2        11947     1.0           0     0          4        1930   \n",
      "3         8030     1.0           0     0          4        1000   \n",
      "4        10500     1.0           0     0          4        1140   \n",
      "...        ...     ...         ...   ...        ...         ...   \n",
      "4595      6360     1.0           0     0          4        1510   \n",
      "4596      7573     2.0           0     0          3        1460   \n",
      "4597      7014     2.0           0     0          3        3010   \n",
      "4598      6630     1.0           0     0          3        1070   \n",
      "4599      8102     2.0           0     0          4        1490   \n",
      "\n",
      "      sqft_basement  yr_built  yr_renovated                    street  \\\n",
      "0                 0      1955          2005      18810 Densmore Ave N   \n",
      "1               280      1921             0           709 W Blaine St   \n",
      "2                 0      1966             0  26206-26214 143rd Ave SE   \n",
      "3              1000      1963             0           857 170th Pl NE   \n",
      "4               800      1976          1992         9105 170th Ave NE   \n",
      "...             ...       ...           ...                       ...   \n",
      "4595              0      1954          1979            501 N 143rd St   \n",
      "4596              0      1983          2009          14855 SE 10th Pl   \n",
      "4597              0      2009             0          759 Ilwaco Pl NE   \n",
      "4598           1020      1974             0         5148 S Creston St   \n",
      "4599              0      1990             0         18717 SE 258th St   \n",
      "\n",
      "           city  statezip country  Winsorized_Price  \n",
      "0     Shoreline  WA 98133     USA      3.130000e+05  \n",
      "1       Seattle  WA 98119     USA      1.184000e+06  \n",
      "2          Kent  WA 98042     USA      3.420000e+05  \n",
      "3      Bellevue  WA 98008     USA      4.200000e+05  \n",
      "4       Redmond  WA 98052     USA      5.500000e+05  \n",
      "...         ...       ...     ...               ...  \n",
      "4595    Seattle  WA 98133     USA      3.081667e+05  \n",
      "4596   Bellevue  WA 98007     USA      5.343333e+05  \n",
      "4597     Renton  WA 98059     USA      4.169042e+05  \n",
      "4598    Seattle  WA 98178     USA      2.034000e+05  \n",
      "4599  Covington  WA 98042     USA      2.206000e+05  \n",
      "\n",
      "[4600 rows x 19 columns]\n"
     ]
    }
   ],
   "source": [
    "##WINSORIZATION:\n",
    "# Handling outliers by winsorizing\n",
    "from scipy.stats.mstats import winsorize\n",
    "\n",
    "# Check if 'price' column exists in the DataFrame\n",
    "if 'price' in df.columns:\n",
    "    # Winsorizing the 'price' column with limits [0.05, 0.05]\n",
    "    df['Winsorized_Price'] = winsorize(df['price'], limits=[0.05, 0.05])\n",
    "\n",
    "    # Displaying the DataFrame with the winsorized column\n",
    "    print(\"DataFrame with winsorized column:\")\n",
    "    print(df)\n",
    "else:\n",
    "    print(\"The 'price' column does not exist in the DataFrame.\")"
   ]
  },
  {
   "cell_type": "code",
   "execution_count": null,
   "metadata": {},
   "outputs": [],
   "source": []
  }
 ],
 "metadata": {
  "colab": {
   "provenance": []
  },
  "kernelspec": {
   "display_name": "Python 3",
   "name": "python3"
  },
  "language_info": {
   "codemirror_mode": {
    "name": "ipython",
    "version": 3
   },
   "file_extension": ".py",
   "mimetype": "text/x-python",
   "name": "python",
   "nbconvert_exporter": "python",
   "pygments_lexer": "ipython3",
   "version": "3.10.0"
  }
 },
 "nbformat": 4,
 "nbformat_minor": 0
}
